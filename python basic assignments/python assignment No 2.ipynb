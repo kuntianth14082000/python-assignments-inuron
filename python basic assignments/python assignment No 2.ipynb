{
 "cells": [
  {
   "cell_type": "markdown",
   "metadata": {},
   "source": [
    "#### 1.What are the two values of the Boolean data type? How do you write them?"
   ]
  },
  {
   "cell_type": "code",
   "execution_count": null,
   "metadata": {},
   "outputs": [],
   "source": [
    "ans 1:\n",
    "    1.True\n",
    "    2.False\n",
    "    "
   ]
  },
  {
   "cell_type": "markdown",
   "metadata": {},
   "source": [
    "#### 2. What are the three different types of Boolean operators?"
   ]
  },
  {
   "cell_type": "code",
   "execution_count": null,
   "metadata": {},
   "outputs": [],
   "source": [
    "ans 2:\n",
    "    and\n",
    "    or\n",
    "    not"
   ]
  },
  {
   "cell_type": "markdown",
   "metadata": {},
   "source": [
    "#### 3. Make a list of each Boolean operator&#39;s truth tables (i.e. every possible combination of Boolean values for the operator and what it evaluate )."
   ]
  },
  {
   "cell_type": "code",
   "execution_count": null,
   "metadata": {},
   "outputs": [],
   "source": [
    "ans 3:\n",
    "    # and truth table\n",
    "    0 0 = 0\n",
    "    0 1 = 0\n",
    "    1 0 = 0\n",
    "    1 1 = 1\n",
    "    \n",
    "    # or truth table\n",
    "    0 0 = 0\n",
    "    0 1 = 1\n",
    "    1 0 = 1\n",
    "    1 1 = 1\n",
    "    \n",
    "    # not truth table\n",
    "    0   = 1\n",
    "    1   = 0"
   ]
  },
  {
   "cell_type": "markdown",
   "metadata": {},
   "source": [
    "#### 4. What are the values of the following expressions?\n",
    "(5 &gt; 4) and (3 == 5)\n",
    "not (5 &gt; 4)\n",
    "(5 &gt; 4) or (3 == 5)\n",
    "not ((5 &gt; 4) or (3 == 5))\n",
    "(True and True) and (True == False)\n",
    "(not False) or (not True)"
   ]
  },
  {
   "cell_type": "code",
   "execution_count": null,
   "metadata": {},
   "outputs": [],
   "source": [
    "Ans 4:\n",
    "    (5 > 4) and (3 == 5)                => False\n",
    "    \n",
    "    not (5 > 4)                         => False\n",
    "    \n",
    "    (5 > 4) or (3 == 5)                 => True\n",
    "    \n",
    "    not ((5 > 4) or (3 == 5))           => False\n",
    "    \n",
    "    (True and True) and (True == False) => False\n",
    "    \n",
    "    (not False) or (not True)           => True\n",
    "    "
   ]
  },
  {
   "cell_type": "markdown",
   "metadata": {},
   "source": [
    "#### 5. What are the six comparison operators?"
   ]
  },
  {
   "cell_type": "code",
   "execution_count": null,
   "metadata": {},
   "outputs": [],
   "source": [
    "Ans 5:\n",
    "    > , < , >= , <= , == ,!="
   ]
  },
  {
   "cell_type": "markdown",
   "metadata": {},
   "source": [
    "#### 6. How do you tell the difference between the equal to and assignment operators?Describe a condition and when you would use one."
   ]
  },
  {
   "cell_type": "code",
   "execution_count": null,
   "metadata": {},
   "outputs": [],
   "source": [
    "Ans 6:\n",
    "    1.Equal to operator shown as   (  ==  )\n",
    "      Equal to operator is used to compare the values.\n",
    "      ex:- a==b\n",
    "           6==7 -> False\n",
    "    \n",
    "    2.assignment operator shown as  ( = )\n",
    "    Assignment operator is used to assign a value to a variable\n",
    "    ex:- a=5,b=\"ineuron\""
   ]
  },
  {
   "cell_type": "markdown",
   "metadata": {},
   "source": [
    "#### 7. Identify the three blocks in this code:"
   ]
  },
  {
   "cell_type": "code",
   "execution_count": null,
   "metadata": {},
   "outputs": [],
   "source": [
    "Ans 7:\n",
    "    \n",
    "spam = 0\n",
    "\n",
    "#block 1\n",
    "if spam == 10:\n",
    "    print('eggs')\n",
    "\n",
    "#block 2\n",
    "if spam > 5:\n",
    "    print('bacon')\n",
    "\n",
    "#block 3\n",
    "else:\n",
    "    print('ham')\n",
    "    print('spam')\n",
    "    print('spam')"
   ]
  },
  {
   "cell_type": "markdown",
   "metadata": {},
   "source": [
    "#### 8. Write code that prints Hello if 1 is stored in spam, prints Howdy if 2 is stored in spam, and prints Greetings! if anything else is stored in spam."
   ]
  },
  {
   "cell_type": "code",
   "execution_count": null,
   "metadata": {},
   "outputs": [],
   "source": [
    "Ans 8:\n",
    "    \n",
    "spam=int(input())\n",
    "if spam==1:\n",
    "    print('Hello')\n",
    "elif spam==2:\n",
    "    print('Howdy')\n",
    "else:\n",
    "    print('Greetings!')"
   ]
  },
  {
   "cell_type": "markdown",
   "metadata": {},
   "source": [
    "#### 9.If your programme is stuck in an endless loop, what keys you’ll press?"
   ]
  },
  {
   "cell_type": "code",
   "execution_count": null,
   "metadata": {},
   "outputs": [],
   "source": [
    "Ans 9:\n",
    "    I will press Ctrl+C \n",
    "    or i will press interrupt the kernel"
   ]
  },
  {
   "cell_type": "markdown",
   "metadata": {},
   "source": [
    "#### 10. How can you tell the difference between break and continue?"
   ]
  },
  {
   "cell_type": "code",
   "execution_count": null,
   "metadata": {},
   "outputs": [],
   "source": [
    "Ans 10:\n",
    "    break    - it breaks the loop,and come out of loop\n",
    "    continue - it skips the current iteration only,and it will continue the next iteration as it is."
   ]
  },
  {
   "cell_type": "markdown",
   "metadata": {},
   "source": [
    "#### 11. In a for loop, what is the difference between range(10), range(0, 10), and range(0, 10, 1)?"
   ]
  },
  {
   "cell_type": "code",
   "execution_count": null,
   "metadata": {},
   "outputs": [],
   "source": [
    "Ans 11:\n",
    "    range(10) \n",
    "    range(0, 10) \n",
    "    range(0, 10, 1)\n",
    "    \n",
    "    there is no difference in the output of above code,all are same.\n",
    "    range(10) -but here if we pass only one parameter it will by default consider it as the end point.\n",
    "    range(0, 10) - here it by default consider the first parameter as initial point, and second parametere as end point.\n",
    "    range(0, 10, 1) -here it by default consider the first parameter as initial point, and second parametere as end point,and the third paramenter as steps.\n",
    "\n",
    "    syntax- range('initial point','end point','steps')"
   ]
  },
  {
   "cell_type": "markdown",
   "metadata": {},
   "source": [
    "#### 12. Write a short program that prints the numbers 1 to 10 using a for loop. Then write an equivalent program that prints the numbers 1 to 10 using a while loop."
   ]
  },
  {
   "cell_type": "code",
   "execution_count": null,
   "metadata": {},
   "outputs": [],
   "source": [
    "Ans 12:\n",
    "    \n",
    "    #using for loop\n",
    "    for i in range(1,11):\n",
    "        print(i)\n",
    "    \n",
    "    #using while loop\n",
    "    i=1\n",
    "    while i<=10:\n",
    "        print(i)\n",
    "        i=i+1"
   ]
  },
  {
   "cell_type": "markdown",
   "metadata": {},
   "source": [
    "#### 13. If you had a function named bacon() inside a module named spam, how would you call it after importing spam?"
   ]
  },
  {
   "cell_type": "code",
   "execution_count": null,
   "metadata": {},
   "outputs": [],
   "source": [
    "Ans 13:\n",
    "    from spam import bacon\n",
    "    (or)\n",
    "    import spam.bacon as bacon"
   ]
  }
 ],
 "metadata": {
  "kernelspec": {
   "display_name": "Python 3",
   "language": "python",
   "name": "python3"
  },
  "language_info": {
   "codemirror_mode": {
    "name": "ipython",
    "version": 3
   },
   "file_extension": ".py",
   "mimetype": "text/x-python",
   "name": "python",
   "nbconvert_exporter": "python",
   "pygments_lexer": "ipython3",
   "version": "3.7.4"
  }
 },
 "nbformat": 4,
 "nbformat_minor": 2
}
