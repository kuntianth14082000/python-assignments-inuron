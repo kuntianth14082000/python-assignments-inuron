{
 "cells": [
  {
   "cell_type": "code",
   "execution_count": null,
   "metadata": {},
   "outputs": [],
   "source": [
    "1. What is the result of the code, and why?\n",
    ">> def func(a, b=6, c=8):\n",
    "    print(a, b, c)\n",
    ">> func(1, 2)"
   ]
  },
  {
   "cell_type": "code",
   "execution_count": null,
   "metadata": {},
   "outputs": [],
   "source": [
    "Ans :\n",
    "    output is = 1,2,8\n",
    "    \n",
    "    This funtion is taking a positional argument and 2 keyward argument. When function call m=is \n",
    "    made, parameter passed are a=1,b=2. When the function is executed , parameter c=8 will be \n",
    "    taken by default as its a keyword argument."
   ]
  },
  {
   "cell_type": "code",
   "execution_count": null,
   "metadata": {},
   "outputs": [],
   "source": [
    "2. What is the result of this code, and why?\n",
    ">> def func(a, b, c=5):\n",
    "    print(a, b, c)\n",
    ">> func(1, c=3, b=2)"
   ]
  },
  {
   "cell_type": "code",
   "execution_count": null,
   "metadata": {},
   "outputs": [],
   "source": [
    "Ans :\n",
    "    output is 1,2,3\n",
    "    \n",
    "    When we make function call, order will be positional argument and then keywords arguments. \n",
    "    we can pass the keyword arguments in any order we want."
   ]
  },
  {
   "cell_type": "code",
   "execution_count": null,
   "metadata": {},
   "outputs": [],
   "source": [
    "3. How about this code: what is its result, and why?\n",
    ">> def func(a, *pargs):\n",
    "        print(a, pargs)\n",
    ">> func(1, 2, 3)"
   ]
  },
  {
   "cell_type": "code",
   "execution_count": null,
   "metadata": {},
   "outputs": [],
   "source": [
    "Ans :\n",
    "    output is = 1,(2,3)\n",
    "    The return type of *args parameter is tuple, where as **kargs will be dictionary"
   ]
  },
  {
   "cell_type": "code",
   "execution_count": null,
   "metadata": {},
   "outputs": [],
   "source": [
    "4. What does this code print, and why?\n",
    ">> def func(a, **kargs):\n",
    "    print(a, kargs)\n",
    ">> func(a=1, c=3, b=2)"
   ]
  },
  {
   "cell_type": "code",
   "execution_count": null,
   "metadata": {},
   "outputs": [],
   "source": [
    "Ans :\n",
    "    output is = 1,{'c':3,'b':2}\n",
    "    \n",
    "    The return type of  **kargs is  dictionary"
   ]
  },
  {
   "cell_type": "code",
   "execution_count": null,
   "metadata": {},
   "outputs": [],
   "source": [
    "5. What gets printed by this, and explain?\n",
    ">> def func(a, b, c=8, d=5): \n",
    "        print(a, b, c, d)\n",
    ">> func(1, *(5, 6))"
   ]
  },
  {
   "cell_type": "code",
   "execution_count": null,
   "metadata": {},
   "outputs": [],
   "source": [
    "Ans :\n",
    "    output is 1,5,6,5\n",
    "        \n",
    "    '*' is the unpacking operator and are operators that unpack the values from iterable objects \n",
    "    in Python. The single asterisk operator * can be used on any iterable that Python provides, \n",
    "    while the double asterisk operator ** can only be used on dictionaries. In the example the \n",
    "    value *(5,6) will be unpacked and will be assigned to b and c and passed as arguments, d =5 \n",
    "    will taken by defaults are keyword arguments."
   ]
  },
  {
   "cell_type": "code",
   "execution_count": null,
   "metadata": {},
   "outputs": [],
   "source": [
    "6. what is the result of this, and explain?\n",
    ">> def func(a, b, c): \n",
    "    a = 2; \n",
    "    b[0] = \"x\"; \n",
    "    c[\"a\"] = \"y\"\n",
    "    \n",
    ">> l=1; m=[1]; n={\"a\":0}\n",
    ">> func(l, m, n)\n",
    "\n",
    ">> l, m, n"
   ]
  },
  {
   "cell_type": "code",
   "execution_count": null,
   "metadata": {},
   "outputs": [],
   "source": [
    "Ans :\n",
    "    l = 1 , integer values, immutable, m is list, mutable, n is dict, mutable.\n",
    "    output will be = 1,['x'],{'a':'y'}\n",
    "\n",
    "    Here in the code, the list and dict are passed as argument, and those are mutable. Here the \n",
    "    list l and parametr b point to the same list in the memeory location where as dict n and c \n",
    "    point to the same memory location. Any updates to this list will update in the memory \n",
    "    location"
   ]
  }
 ],
 "metadata": {
  "kernelspec": {
   "display_name": "Python 3",
   "language": "python",
   "name": "python3"
  },
  "language_info": {
   "codemirror_mode": {
    "name": "ipython",
    "version": 3
   },
   "file_extension": ".py",
   "mimetype": "text/x-python",
   "name": "python",
   "nbconvert_exporter": "python",
   "pygments_lexer": "ipython3",
   "version": "3.7.4"
  }
 },
 "nbformat": 4,
 "nbformat_minor": 2
}
