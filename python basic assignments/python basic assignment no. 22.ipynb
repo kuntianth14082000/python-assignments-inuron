{
 "cells": [
  {
   "cell_type": "code",
   "execution_count": null,
   "metadata": {},
   "outputs": [],
   "source": [
    "1. What is the result of the code, and explain?\n",
    "\n",
    ">> X = \"iNeuron\"\n",
    ">> def func():\n",
    "    print(X)\n",
    "\n",
    ">> func()"
   ]
  },
  {
   "cell_type": "code",
   "execution_count": null,
   "metadata": {},
   "outputs": [],
   "source": [
    "Ans :\n",
    "    result: 'iNeuron'\n",
    "        \n",
    "    The global variables are accessible in side the functions in python. But we can not access function variable out side \n",
    "    function. \n",
    "    Since x is golbal variable we are able to print it in side the function"
   ]
  },
  {
   "cell_type": "code",
   "execution_count": null,
   "metadata": {},
   "outputs": [],
   "source": [
    "2. What is the result of the code, and explain?\n",
    "\n",
    ">> X = \"iNeuron\"\n",
    ">> def func():\n",
    "X = \"NI!\"\"\n",
    "\n",
    ">> func()\n",
    ">> print(X)"
   ]
  },
  {
   "cell_type": "code",
   "execution_count": null,
   "metadata": {},
   "outputs": [],
   "source": [
    "Ans :\n",
    "    result = 'iNeuron'\n",
    "    \n",
    "    The global variables are access in side the functions in python. But we can not access \n",
    "    function variable out side function. \n",
    "    Since x is golbal variable we are able to print it out side of the function"
   ]
  },
  {
   "cell_type": "code",
   "execution_count": null,
   "metadata": {},
   "outputs": [],
   "source": [
    "3. What does this code print, and why?\n",
    "\n",
    ">> X = \"iNeuron\"\n",
    ">> def func():\n",
    "    X = \"NI\"\n",
    "    print(X)\n",
    "\n",
    ">> func()\n",
    ">> print(X)"
   ]
  },
  {
   "cell_type": "code",
   "execution_count": null,
   "metadata": {},
   "outputs": [],
   "source": [
    "Ans :\n",
    "    result = 'NI!', 'iNeuron'\n",
    "    \n",
    "    The global variables are access in side the functions in python. But we can not access \n",
    "    function variable out side function. X is updated with 'NI' which is local to function and \n",
    "    its immutable. its name space is with in the function\n",
    "    "
   ]
  },
  {
   "cell_type": "code",
   "execution_count": null,
   "metadata": {},
   "outputs": [],
   "source": [
    "4. What output does this code produce? Why?\n",
    "\n",
    ">> X = \"iNeuron\"\n",
    ">> def func():\n",
    "        global X\n",
    "        X = \"NI\"\n",
    "\n",
    ">> func()\n",
    ">> print(X)"
   ]
  },
  {
   "cell_type": "code",
   "execution_count": null,
   "metadata": {},
   "outputs": [],
   "source": [
    "Ans :\n",
    "    result : 'NI!', 'NI!'\n",
    "        \n",
    "    since the X in side function is made Global, it will be accesible out side of the function \n",
    "    too. now X will have new value."
   ]
  },
  {
   "cell_type": "code",
   "execution_count": null,
   "metadata": {},
   "outputs": [],
   "source": [
    "5. What about this code—what’s the output, and why?\n",
    "\n",
    ">> X = \"iNeuron\"\n",
    ">> def func():\n",
    "        X = \"NI\"\n",
    "        def nested():\n",
    "            print(X)\n",
    "        nested()\n",
    "\n",
    ">> func()\n",
    ">> X"
   ]
  },
  {
   "cell_type": "code",
   "execution_count": null,
   "metadata": {},
   "outputs": [],
   "source": [
    "Ans :\n",
    "    Solution : 'iNeuron'\n",
    "        \n",
    "    the nested() function will print 'iNeuron', Then func() does not display anything, \n",
    "    and x ='NI' is not accessible out side the function."
   ]
  },
  {
   "cell_type": "code",
   "execution_count": null,
   "metadata": {},
   "outputs": [],
   "source": [
    "6. How about this code: what is its output in Python 3, and explain?\n",
    "\n",
    ">> def func():\n",
    "    X = \"NI\"\n",
    "def nested():\n",
    "    nonlocal X\n",
    "    X = \"Spam\"\n",
    "nested()\n",
    "print(X)\n",
    "\n",
    ">> func()"
   ]
  },
  {
   "cell_type": "code",
   "execution_count": null,
   "metadata": {},
   "outputs": [],
   "source": [
    "Ans :\n",
    "    result : 'spam'\n",
    "        \n",
    "    Nonlocal variables are used in nested functions whose local scope is not defined. \n",
    "    This means that the variable can be neither in the local nor the global scope. it print the \n",
    "    updated value from nested function"
   ]
  }
 ],
 "metadata": {
  "kernelspec": {
   "display_name": "Python 3",
   "language": "python",
   "name": "python3"
  },
  "language_info": {
   "codemirror_mode": {
    "name": "ipython",
    "version": 3
   },
   "file_extension": ".py",
   "mimetype": "text/x-python",
   "name": "python",
   "nbconvert_exporter": "python",
   "pygments_lexer": "ipython3",
   "version": "3.7.4"
  }
 },
 "nbformat": 4,
 "nbformat_minor": 2
}
