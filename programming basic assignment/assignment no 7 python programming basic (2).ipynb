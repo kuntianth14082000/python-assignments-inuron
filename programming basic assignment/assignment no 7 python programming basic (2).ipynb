{
 "cells": [
  {
   "cell_type": "code",
   "execution_count": null,
   "metadata": {},
   "outputs": [],
   "source": [
    "1. Write a Python Program to find sum of array?"
   ]
  },
  {
   "cell_type": "code",
   "execution_count": null,
   "metadata": {},
   "outputs": [],
   "source": [
    "#set an array of integers\n",
    "arr = [10, 20, 30, 40, 50]\n",
    "#to calculate we just have to use sum()\n",
    "print (\"Sum of the array: \")\n",
    "print sum(arr)"
   ]
  },
  {
   "cell_type": "code",
   "execution_count": null,
   "metadata": {},
   "outputs": [],
   "source": [
    "2. Write a Python Program to find largest element in an array?"
   ]
  },
  {
   "cell_type": "code",
   "execution_count": null,
   "metadata": {},
   "outputs": [],
   "source": [
    "# largest function\n",
    "def largest(arr,n):\n",
    "   #maximum element\n",
    "   max = arr[0]\n",
    "   # traverse the whole loop\n",
    "   for i in range(1, n):\n",
    "        if arr[i] > max:\n",
    "            max = arr[i]\n",
    "    return max\n",
    "# Driver Code\n",
    "arr = [23,1,32,67,2,34,12]\n",
    "n = len(arr)\n",
    "Ans = largest(arr,n)\n",
    "print (\"Largest element given in array is\",Ans)"
   ]
  },
  {
   "cell_type": "code",
   "execution_count": null,
   "metadata": {},
   "outputs": [],
   "source": [
    "3. Write a Python Program for array rotation?"
   ]
  },
  {
   "cell_type": "code",
   "execution_count": null,
   "metadata": {},
   "outputs": [],
   "source": [
    "# maximum value\n",
    "MAX = 300\n",
    "# compare\n",
    "def compare(arr1, arr2):\n",
    "    for i in range(MAX):\n",
    "        if arr1[i] != arr2[i]:\n",
    "            return False\n",
    "    return True\n",
    "# search\n",
    "def search(pat, txt):\n",
    "    M = len(pat)\n",
    "    N = len(txt)\n",
    "    # countP pattern account\n",
    "    # countTW text window count\n",
    "    countP = [0]*MAX\n",
    "    countTW = [0]*MAX\n",
    "    for i in range(M):\n",
    "        (countP[ord(pat[i]) ]) += 1\n",
    "        (countTW[ord(txt[i]) ]) += 1\n",
    "    # Traversal\n",
    "    for i in range(M, N):\n",
    "       # Compare current window and patten counts\n",
    "       if compare(countP, countTW):\n",
    "            print(\"Found at Index\", (i-M))\n",
    "       # Add charcter to window\n",
    "       (countTW[ ord(txt[i]) ]) += 1\n",
    "       # remove charcter from window\n",
    "       (countTW[ ord(txt[i-M]) ]) -= 1\n",
    "       # Check for the last window\n",
    "       if compare(countP, countTW):\n",
    "            print(\"It is Found at Index : \", N-M)\n",
    "# main\n",
    "txt = \"TUTORIALSPOINT\"\n",
    "pat = \"TOR\"\n",
    "search(pat, txt)"
   ]
  },
  {
   "cell_type": "code",
   "execution_count": null,
   "metadata": {},
   "outputs": [],
   "source": [
    "4. Write a Python Program to Split the array and add the first part to the end?"
   ]
  },
  {
   "cell_type": "code",
   "execution_count": null,
   "metadata": {},
   "outputs": [],
   "source": [
    "def split_list(my_list, n_val, k_val):\n",
    "    for i in range(0, k_val):\n",
    "        first_val = my_list[0]\n",
    "        for k in range(0, n_val-1):\n",
    "            my_list[k] = my_list[k + 1]\n",
    "        my_list[n_val-1] = first_val\n",
    "my_list = [34, 42, 56, 78, 9, 0, 23]\n",
    "list_len = len(my_list)\n",
    "pos = 3\n",
    "print(\"The list is :\")\n",
    "print(my_list)\n",
    "print(\"The split_list method is being called\")\n",
    "split_list(my_list, list_len, pos)\n",
    "for i in range(0, list_len):\n",
    "print(my_list[i])"
   ]
  },
  {
   "cell_type": "code",
   "execution_count": null,
   "metadata": {},
   "outputs": [],
   "source": [
    "5. Write a Python Program to check if given array is Monotonic?"
   ]
  },
  {
   "cell_type": "code",
   "execution_count": null,
   "metadata": {},
   "outputs": [],
   "source": [
    "def isMonotonic(A):\n",
    "    return (all(A[i] <= A[i + 1] for i in range(len(A) - 1)) or\n",
    "      all(A[i] >= A[i + 1] for i in range(len(A) - 1)))\n",
    "# main\n",
    "A = [1,2,3,4,7,8]\n",
    "print(isMonotonic(A))"
   ]
  }
 ],
 "metadata": {
  "kernelspec": {
   "display_name": "Python 3",
   "language": "python",
   "name": "python3"
  },
  "language_info": {
   "codemirror_mode": {
    "name": "ipython",
    "version": 3
   },
   "file_extension": ".py",
   "mimetype": "text/x-python",
   "name": "python",
   "nbconvert_exporter": "python",
   "pygments_lexer": "ipython3",
   "version": "3.7.4"
  }
 },
 "nbformat": 4,
 "nbformat_minor": 2
}
