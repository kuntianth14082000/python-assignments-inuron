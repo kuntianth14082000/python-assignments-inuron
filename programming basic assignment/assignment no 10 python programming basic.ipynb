{
 "cells": [
  {
   "cell_type": "code",
   "execution_count": null,
   "metadata": {},
   "outputs": [],
   "source": [
    "1. Write a Python program to find sum of elements in list?"
   ]
  },
  {
   "cell_type": "code",
   "execution_count": null,
   "metadata": {},
   "outputs": [],
   "source": [
    "# sum\n",
    "total = 0\n",
    "# creating a list\n",
    "list1 = [11, 22,33,44,55,66]\n",
    "# iterating over the list\n",
    "for ele in range(0, len(list1)):\n",
    "    total = total + list1[ele]\n",
    "# printing total value\n",
    "print(\"Sum of all elements in given list: \", total)"
   ]
  },
  {
   "cell_type": "code",
   "execution_count": null,
   "metadata": {},
   "outputs": [],
   "source": [
    "2. Write a Python program to Multiply all numbers in the list?"
   ]
  },
  {
   "cell_type": "code",
   "execution_count": null,
   "metadata": {},
   "outputs": [],
   "source": [
    "def multiplyList(myList) :\n",
    "     \n",
    "    # Multiply elements one by one\n",
    "    result = 1\n",
    "    for x in myList:\n",
    "         result = result * x\n",
    "    return result\n",
    "     \n",
    "# Driver code\n",
    "list1 = [1, 2, 3]\n",
    "list2 = [3, 2, 4]\n",
    "print(multiplyList(list1))\n",
    "print(multiplyList(list2))"
   ]
  },
  {
   "cell_type": "code",
   "execution_count": null,
   "metadata": {},
   "outputs": [],
   "source": [
    "3. Write a Python program to find smallest number in a list?"
   ]
  },
  {
   "cell_type": "code",
   "execution_count": null,
   "metadata": {},
   "outputs": [],
   "source": [
    "list1 = [101, 120, 104, 145, 99]\n",
    "# sorting using built-in function\n",
    "list1.sort()\n",
    "print(\"Smallest element is:\", list1[0])"
   ]
  },
  {
   "cell_type": "code",
   "execution_count": null,
   "metadata": {},
   "outputs": [],
   "source": [
    "4. Write a Python program to find largest number in a list?"
   ]
  },
  {
   "cell_type": "code",
   "execution_count": null,
   "metadata": {},
   "outputs": [],
   "source": [
    "# list\n",
    "list1 = [23,1,32,67,2,34,12]\n",
    "# sorting\n",
    "list1.sort()\n",
    "# printing the last element\n",
    "print(\"Largest element is:\", list1[-1])"
   ]
  },
  {
   "cell_type": "code",
   "execution_count": null,
   "metadata": {},
   "outputs": [],
   "source": [
    "5. Write a Python program to find second largest number in a list?"
   ]
  },
  {
   "cell_type": "code",
   "execution_count": null,
   "metadata": {},
   "outputs": [],
   "source": [
    "list1 = [11,22,1,2,5,67,21,32]\n",
    "# to get unique elements\n",
    "new_list = set(list1)\n",
    "# removing the largest element from list1\n",
    "new_list.remove(max(new_list))\n",
    "# now computing the max element by built-in method?\n",
    "print(max(new_list))"
   ]
  },
  {
   "cell_type": "code",
   "execution_count": null,
   "metadata": {},
   "outputs": [],
   "source": [
    "6. Write a Python program to find N largest elements from a list?"
   ]
  },
  {
   "cell_type": "code",
   "execution_count": null,
   "metadata": {},
   "outputs": [],
   "source": [
    "def Nnumberele(list1, N):\n",
    "    new_list = []\n",
    "    for i in range(0, N):\n",
    "        max1 = 0\n",
    "    for j in range(len(list1)):\n",
    "        if list1[j] > max1:\n",
    "            max1 = list1[j];\n",
    "            list1.remove(max1);\n",
    "            new_list.append(max1)\n",
    "        print(\"Largest numbers are \",new_list)\n",
    "        # Driver code\n",
    "        my_list = [12, 61, 41, 85, 40, 13, 77, 65, 100]\n",
    "        N = 4\n",
    "# Calling the function\n",
    "Nnumberele(my_list, N)"
   ]
  },
  {
   "cell_type": "code",
   "execution_count": null,
   "metadata": {},
   "outputs": [],
   "source": [
    "7. Write a Python program to print even numbers in a list?"
   ]
  },
  {
   "cell_type": "code",
   "execution_count": null,
   "metadata": {},
   "outputs": [],
   "source": [
    "list1 = [11,23,45,23,64,22,11,24]\n",
    "# iteration\n",
    "for num in list1:\n",
    "   # check\n",
    "   if num % 2 == 0:\n",
    "        print(num, end = \" \")"
   ]
  },
  {
   "cell_type": "code",
   "execution_count": null,
   "metadata": {},
   "outputs": [],
   "source": [
    "8. Write a Python program to print odd numbers in a List?"
   ]
  },
  {
   "cell_type": "code",
   "execution_count": null,
   "metadata": {},
   "outputs": [],
   "source": [
    "list1 = [11,23,45,23,64,22,11,24]\n",
    "# iteration\n",
    "for num in list1:\n",
    "   # check\n",
    "   if num % 2 != 0:\n",
    "        print(num, end = \" \")"
   ]
  },
  {
   "cell_type": "code",
   "execution_count": null,
   "metadata": {},
   "outputs": [],
   "source": [
    "9. Write a Python program to Remove empty List from List?"
   ]
  },
  {
   "cell_type": "code",
   "execution_count": null,
   "metadata": {},
   "outputs": [],
   "source": [
    "theList = [x for x in theList if x != ['']] "
   ]
  },
  {
   "cell_type": "code",
   "execution_count": null,
   "metadata": {},
   "outputs": [],
   "source": [
    "10. Write a Python program to Cloning or Copying a list?"
   ]
  },
  {
   "cell_type": "code",
   "execution_count": null,
   "metadata": {},
   "outputs": [],
   "source": [
    "#Python program to copy or clone a list \n",
    "# Using the Slice Operator \n",
    "def copyandcloning(cl): \n",
    "    copylist = cl[:] \n",
    "    return copylist \n",
    "# Driver Code \n",
    "A=list()\n",
    "n1=int(input(\"Enter the size of the List ::\"))\n",
    "print(\"Enter the Element of List ::\")\n",
    "for i in range(int(n1)):\n",
    "    k=int(input(\"\"))\n",
    "    A.append(k)\n",
    "clon = copyandcloning(A) \n",
    "print(\"Original or Before Cloning The List Is:\", A) \n",
    "print(\"After Cloning:\", clon) "
   ]
  },
  {
   "cell_type": "code",
   "execution_count": null,
   "metadata": {},
   "outputs": [],
   "source": [
    "11. Write a Python program to Count occurrences of an element in a list?"
   ]
  },
  {
   "cell_type": "code",
   "execution_count": null,
   "metadata": {},
   "outputs": [],
   "source": [
    "from collections import Counter\n",
    "Alist = ['Mon', 'Wed', 'Mon', 'Tue', 'Thu']\n",
    "elem = 'Mon'\n",
    "# Given list and element\n",
    "print(\"Given list:\\n\", Alist)\n",
    "print(\"Given element:\\n\",elem)\n",
    "cnt = Counter(Alist)\n",
    "print(\"Number of times the element is present in list:\\n\",cnt[elem])"
   ]
  }
 ],
 "metadata": {
  "kernelspec": {
   "display_name": "Python 3",
   "language": "python",
   "name": "python3"
  },
  "language_info": {
   "codemirror_mode": {
    "name": "ipython",
    "version": 3
   },
   "file_extension": ".py",
   "mimetype": "text/x-python",
   "name": "python",
   "nbconvert_exporter": "python",
   "pygments_lexer": "ipython3",
   "version": "3.7.4"
  }
 },
 "nbformat": 4,
 "nbformat_minor": 2
}
