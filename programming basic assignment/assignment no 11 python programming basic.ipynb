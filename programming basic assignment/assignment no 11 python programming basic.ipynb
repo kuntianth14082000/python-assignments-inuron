{
 "cells": [
  {
   "cell_type": "code",
   "execution_count": null,
   "metadata": {},
   "outputs": [],
   "source": [
    "1. Write a Python program to find words which are greater than given length k?"
   ]
  },
  {
   "cell_type": "code",
   "execution_count": null,
   "metadata": {},
   "outputs": [],
   "source": [
    "# initializing the list and K\n",
    "numbers = [3, 4, 5, 23, 12, 10, 16]\n",
    "K = 10\n",
    "# iterating over thAe list\n",
    "for i in range(len(numbers)):\n",
    "   # checking the number greater than K\n",
    "   if numbers[i] > K:\n",
    "      # printing the number index\n",
    "      print(i, end=' ')"
   ]
  },
  {
   "cell_type": "code",
   "execution_count": null,
   "metadata": {},
   "outputs": [],
   "source": [
    "2. Write a Python program for removing i-th character from a string?"
   ]
  },
  {
   "cell_type": "code",
   "execution_count": null,
   "metadata": {},
   "outputs": [],
   "source": [
    "new_str = \"\"\n",
    "  \n",
    "for i in range(len(test_str)):\n",
    "    if i != 2:\n",
    "        new_str = new_str + test_str[i]"
   ]
  },
  {
   "cell_type": "code",
   "execution_count": null,
   "metadata": {},
   "outputs": [],
   "source": [
    "3. Write a Python program to split and join a string?"
   ]
  },
  {
   "cell_type": "code",
   "execution_count": null,
   "metadata": {},
   "outputs": [],
   "source": [
    "#split of string\n",
    "str1=input(\"Enter first String with space :: \")\n",
    "print(str1.split())    #splits at space\n",
    "\n",
    "str2=input(\"Enter second String with (,) :: \")\n",
    "print(str2.split(','))    #splits at ','\n",
    "\n",
    "str3=input(\"Enter third String with (:) :: \")\n",
    "print(str3.split(':'))    #splits at ':'\n",
    "\n",
    "str4=input(\"Enter fourth String with (;) :: \")\n",
    "print(str4.split(';'))    #splits at ';'\n",
    "\n",
    "str5=input(\"Enter fifth String without space :: \")\n",
    "print([str5[i:i+2]for i in range(0,len(str5),2)])"
   ]
  },
  {
   "cell_type": "code",
   "execution_count": null,
   "metadata": {},
   "outputs": [],
   "source": [
    "4. Write a Python to check if a given string is binary string or not?"
   ]
  },
  {
   "cell_type": "code",
   "execution_count": null,
   "metadata": {},
   "outputs": [],
   "source": [
    "stringA = '0110101010111'\n",
    "b = {'0','1'}\n",
    "t = set(stringA)\n",
    "\n",
    "if b == t or t == {'0'} or t == {'1'}:\n",
    "print(\"StringA is a binary string.\")\n",
    "else:\n",
    "print(\"StringA is not a binary string.\")\n",
    "\n",
    "stringB = '0120101010111'\n",
    "u = set(stringB)\n",
    "\n",
    "if b == u or u == {'0'} or u == {'1'}:\n",
    "print(\"StringB is a binary string.\")\n",
    "else:\n",
    "print(\"StringB is not a binary string.\")"
   ]
  },
  {
   "cell_type": "code",
   "execution_count": null,
   "metadata": {},
   "outputs": [],
   "source": [
    "5. Write a Python program to find uncommon words from two Strings?"
   ]
  },
  {
   "cell_type": "code",
   "execution_count": null,
   "metadata": {},
   "outputs": [],
   "source": [
    "# uncommon words\n",
    "def find(A, B):\n",
    "   # count\n",
    "   count = {}\n",
    "   # insert in A\n",
    "   for word in A.split():\n",
    "        count[word] = count.get(word, 0) + 1\n",
    "   # insert in B\n",
    "   for word in B.split():\n",
    "        count[word] = count.get(word, 0) + 1\n",
    "   # return ans\n",
    "   return [word for word in count if count[word] == 1]\n",
    "# main\n",
    "A = \"Tutorials point \"\n",
    "B = \"Python on Tutorials point\"\n",
    "print(\"The uncommon words in strings are:\",find(A, B))"
   ]
  },
  {
   "cell_type": "code",
   "execution_count": null,
   "metadata": {},
   "outputs": [],
   "source": [
    "6. Write a Python to find all duplicate characters in string?"
   ]
  },
  {
   "cell_type": "code",
   "execution_count": null,
   "metadata": {},
   "outputs": [],
   "source": [
    "## initializing string\n",
    "string = \"tutorialspoint\"\n",
    "## initializing a list to append all the duplicate characters\n",
    "duplicates = []\n",
    "for char in string:\n",
    "   ## checking whether the character have a duplicate or not\n",
    "   ## str.count(char) returns the frequency of a char in the str\n",
    "    if string.count(char) > 1:\n",
    "   ## appending to the list if it's already not present\n",
    "   if char not in duplicates:\n",
    "    duplicates.append(char)\n",
    "print(*duplicates)"
   ]
  },
  {
   "cell_type": "code",
   "execution_count": null,
   "metadata": {},
   "outputs": [],
   "source": [
    "7. Write a Python Program to check if a string contains any special character?"
   ]
  },
  {
   "cell_type": "code",
   "execution_count": null,
   "metadata": {},
   "outputs": [],
   "source": [
    "# importing the string module\n",
    "import string\n",
    "# special characters\n",
    "special_chars = string.punctuation\n",
    "# initializing a string\n",
    "string_1 = \"Tutori@lspoinT!\"\n",
    "string_2 = \"Tutorialspoint\"\n",
    "# checking the special chars in the string_1\n",
    "bools = list(map(lambda char: char in special_chars, string_1))\n",
    "print(\"Valid\") if any(bools) else print(\"Invalid\")\n",
    "# checking the special chars in the string_2\n",
    "bools = list(map(lambda char: char in special_chars, string_2))\n",
    "print(\"Valid\") if any(bools) else print(\"Invalid\")"
   ]
  },
  {
   "cell_type": "code",
   "execution_count": null,
   "metadata": {},
   "outputs": [],
   "source": []
  }
 ],
 "metadata": {
  "kernelspec": {
   "display_name": "Python 3",
   "language": "python",
   "name": "python3"
  },
  "language_info": {
   "codemirror_mode": {
    "name": "ipython",
    "version": 3
   },
   "file_extension": ".py",
   "mimetype": "text/x-python",
   "name": "python",
   "nbconvert_exporter": "python",
   "pygments_lexer": "ipython3",
   "version": "3.7.4"
  }
 },
 "nbformat": 4,
 "nbformat_minor": 2
}
